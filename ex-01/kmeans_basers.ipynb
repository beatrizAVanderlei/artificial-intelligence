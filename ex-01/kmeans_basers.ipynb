{
 "cells": [
  {
   "cell_type": "code",
   "execution_count": 1,
   "metadata": {
    "collapsed": true
   },
   "outputs": [],
   "source": [
    "import pandas as pd\n",
    "import numpy as np\n",
    "from sklearn.cluster import KMeans"
   ]
  },
  {
   "cell_type": "code",
   "execution_count": 3,
   "outputs": [],
   "source": [
    "dataset = pd.read_csv(\"dataset/BaseRS.csv\")\n",
    "dataset_without_target = dataset.drop([\"target\"], axis=1)"
   ],
   "metadata": {
    "collapsed": false
   }
  },
  {
   "cell_type": "code",
   "execution_count": 4,
   "outputs": [
    {
     "data": {
      "text/plain": "    Altura  Peso target\n0     1.90   100      B\n1     1.90    80      V\n2     1.75    67      F\n3     1.60    70      F\n4     1.71    60      F\n5     2.10   109      B\n6     2.00    85      V\n7     1.88    80      V\n8     2.15   115      B\n9     1.95   113      V\n10    1.80    73      F\n11    1.82    76      F\n12    1.85    83      F\n13    1.76    78      F\n14    2.06   113      B\n15    1.97   108      B\n16    2.04   110      B\n17    2.02   112      B\n18    1.99    85      V\n19    1.99    79      V\n20    2.02   118      B\n21    1.85    85      F\n22    1.89    85      V\n23    2.07    94      V\n24    1.85    80      F\n25    1.79    73      F\n26    1.88    77      F\n27    2.11   109      B\n28    2.10   109      B\n29    1.91    83      V",
      "text/html": "<div>\n<style scoped>\n    .dataframe tbody tr th:only-of-type {\n        vertical-align: middle;\n    }\n\n    .dataframe tbody tr th {\n        vertical-align: top;\n    }\n\n    .dataframe thead th {\n        text-align: right;\n    }\n</style>\n<table border=\"1\" class=\"dataframe\">\n  <thead>\n    <tr style=\"text-align: right;\">\n      <th></th>\n      <th>Altura</th>\n      <th>Peso</th>\n      <th>target</th>\n    </tr>\n  </thead>\n  <tbody>\n    <tr>\n      <th>0</th>\n      <td>1.90</td>\n      <td>100</td>\n      <td>B</td>\n    </tr>\n    <tr>\n      <th>1</th>\n      <td>1.90</td>\n      <td>80</td>\n      <td>V</td>\n    </tr>\n    <tr>\n      <th>2</th>\n      <td>1.75</td>\n      <td>67</td>\n      <td>F</td>\n    </tr>\n    <tr>\n      <th>3</th>\n      <td>1.60</td>\n      <td>70</td>\n      <td>F</td>\n    </tr>\n    <tr>\n      <th>4</th>\n      <td>1.71</td>\n      <td>60</td>\n      <td>F</td>\n    </tr>\n    <tr>\n      <th>5</th>\n      <td>2.10</td>\n      <td>109</td>\n      <td>B</td>\n    </tr>\n    <tr>\n      <th>6</th>\n      <td>2.00</td>\n      <td>85</td>\n      <td>V</td>\n    </tr>\n    <tr>\n      <th>7</th>\n      <td>1.88</td>\n      <td>80</td>\n      <td>V</td>\n    </tr>\n    <tr>\n      <th>8</th>\n      <td>2.15</td>\n      <td>115</td>\n      <td>B</td>\n    </tr>\n    <tr>\n      <th>9</th>\n      <td>1.95</td>\n      <td>113</td>\n      <td>V</td>\n    </tr>\n    <tr>\n      <th>10</th>\n      <td>1.80</td>\n      <td>73</td>\n      <td>F</td>\n    </tr>\n    <tr>\n      <th>11</th>\n      <td>1.82</td>\n      <td>76</td>\n      <td>F</td>\n    </tr>\n    <tr>\n      <th>12</th>\n      <td>1.85</td>\n      <td>83</td>\n      <td>F</td>\n    </tr>\n    <tr>\n      <th>13</th>\n      <td>1.76</td>\n      <td>78</td>\n      <td>F</td>\n    </tr>\n    <tr>\n      <th>14</th>\n      <td>2.06</td>\n      <td>113</td>\n      <td>B</td>\n    </tr>\n    <tr>\n      <th>15</th>\n      <td>1.97</td>\n      <td>108</td>\n      <td>B</td>\n    </tr>\n    <tr>\n      <th>16</th>\n      <td>2.04</td>\n      <td>110</td>\n      <td>B</td>\n    </tr>\n    <tr>\n      <th>17</th>\n      <td>2.02</td>\n      <td>112</td>\n      <td>B</td>\n    </tr>\n    <tr>\n      <th>18</th>\n      <td>1.99</td>\n      <td>85</td>\n      <td>V</td>\n    </tr>\n    <tr>\n      <th>19</th>\n      <td>1.99</td>\n      <td>79</td>\n      <td>V</td>\n    </tr>\n    <tr>\n      <th>20</th>\n      <td>2.02</td>\n      <td>118</td>\n      <td>B</td>\n    </tr>\n    <tr>\n      <th>21</th>\n      <td>1.85</td>\n      <td>85</td>\n      <td>F</td>\n    </tr>\n    <tr>\n      <th>22</th>\n      <td>1.89</td>\n      <td>85</td>\n      <td>V</td>\n    </tr>\n    <tr>\n      <th>23</th>\n      <td>2.07</td>\n      <td>94</td>\n      <td>V</td>\n    </tr>\n    <tr>\n      <th>24</th>\n      <td>1.85</td>\n      <td>80</td>\n      <td>F</td>\n    </tr>\n    <tr>\n      <th>25</th>\n      <td>1.79</td>\n      <td>73</td>\n      <td>F</td>\n    </tr>\n    <tr>\n      <th>26</th>\n      <td>1.88</td>\n      <td>77</td>\n      <td>F</td>\n    </tr>\n    <tr>\n      <th>27</th>\n      <td>2.11</td>\n      <td>109</td>\n      <td>B</td>\n    </tr>\n    <tr>\n      <th>28</th>\n      <td>2.10</td>\n      <td>109</td>\n      <td>B</td>\n    </tr>\n    <tr>\n      <th>29</th>\n      <td>1.91</td>\n      <td>83</td>\n      <td>V</td>\n    </tr>\n  </tbody>\n</table>\n</div>"
     },
     "execution_count": 4,
     "metadata": {},
     "output_type": "execute_result"
    }
   ],
   "source": [
    "dataset"
   ],
   "metadata": {
    "collapsed": false
   }
  },
  {
   "cell_type": "code",
   "execution_count": 5,
   "outputs": [
    {
     "data": {
      "text/plain": "    Altura  Peso\n0     1.90   100\n1     1.90    80\n2     1.75    67\n3     1.60    70\n4     1.71    60\n5     2.10   109\n6     2.00    85\n7     1.88    80\n8     2.15   115\n9     1.95   113\n10    1.80    73\n11    1.82    76\n12    1.85    83\n13    1.76    78\n14    2.06   113\n15    1.97   108\n16    2.04   110\n17    2.02   112\n18    1.99    85\n19    1.99    79\n20    2.02   118\n21    1.85    85\n22    1.89    85\n23    2.07    94\n24    1.85    80\n25    1.79    73\n26    1.88    77\n27    2.11   109\n28    2.10   109\n29    1.91    83",
      "text/html": "<div>\n<style scoped>\n    .dataframe tbody tr th:only-of-type {\n        vertical-align: middle;\n    }\n\n    .dataframe tbody tr th {\n        vertical-align: top;\n    }\n\n    .dataframe thead th {\n        text-align: right;\n    }\n</style>\n<table border=\"1\" class=\"dataframe\">\n  <thead>\n    <tr style=\"text-align: right;\">\n      <th></th>\n      <th>Altura</th>\n      <th>Peso</th>\n    </tr>\n  </thead>\n  <tbody>\n    <tr>\n      <th>0</th>\n      <td>1.90</td>\n      <td>100</td>\n    </tr>\n    <tr>\n      <th>1</th>\n      <td>1.90</td>\n      <td>80</td>\n    </tr>\n    <tr>\n      <th>2</th>\n      <td>1.75</td>\n      <td>67</td>\n    </tr>\n    <tr>\n      <th>3</th>\n      <td>1.60</td>\n      <td>70</td>\n    </tr>\n    <tr>\n      <th>4</th>\n      <td>1.71</td>\n      <td>60</td>\n    </tr>\n    <tr>\n      <th>5</th>\n      <td>2.10</td>\n      <td>109</td>\n    </tr>\n    <tr>\n      <th>6</th>\n      <td>2.00</td>\n      <td>85</td>\n    </tr>\n    <tr>\n      <th>7</th>\n      <td>1.88</td>\n      <td>80</td>\n    </tr>\n    <tr>\n      <th>8</th>\n      <td>2.15</td>\n      <td>115</td>\n    </tr>\n    <tr>\n      <th>9</th>\n      <td>1.95</td>\n      <td>113</td>\n    </tr>\n    <tr>\n      <th>10</th>\n      <td>1.80</td>\n      <td>73</td>\n    </tr>\n    <tr>\n      <th>11</th>\n      <td>1.82</td>\n      <td>76</td>\n    </tr>\n    <tr>\n      <th>12</th>\n      <td>1.85</td>\n      <td>83</td>\n    </tr>\n    <tr>\n      <th>13</th>\n      <td>1.76</td>\n      <td>78</td>\n    </tr>\n    <tr>\n      <th>14</th>\n      <td>2.06</td>\n      <td>113</td>\n    </tr>\n    <tr>\n      <th>15</th>\n      <td>1.97</td>\n      <td>108</td>\n    </tr>\n    <tr>\n      <th>16</th>\n      <td>2.04</td>\n      <td>110</td>\n    </tr>\n    <tr>\n      <th>17</th>\n      <td>2.02</td>\n      <td>112</td>\n    </tr>\n    <tr>\n      <th>18</th>\n      <td>1.99</td>\n      <td>85</td>\n    </tr>\n    <tr>\n      <th>19</th>\n      <td>1.99</td>\n      <td>79</td>\n    </tr>\n    <tr>\n      <th>20</th>\n      <td>2.02</td>\n      <td>118</td>\n    </tr>\n    <tr>\n      <th>21</th>\n      <td>1.85</td>\n      <td>85</td>\n    </tr>\n    <tr>\n      <th>22</th>\n      <td>1.89</td>\n      <td>85</td>\n    </tr>\n    <tr>\n      <th>23</th>\n      <td>2.07</td>\n      <td>94</td>\n    </tr>\n    <tr>\n      <th>24</th>\n      <td>1.85</td>\n      <td>80</td>\n    </tr>\n    <tr>\n      <th>25</th>\n      <td>1.79</td>\n      <td>73</td>\n    </tr>\n    <tr>\n      <th>26</th>\n      <td>1.88</td>\n      <td>77</td>\n    </tr>\n    <tr>\n      <th>27</th>\n      <td>2.11</td>\n      <td>109</td>\n    </tr>\n    <tr>\n      <th>28</th>\n      <td>2.10</td>\n      <td>109</td>\n    </tr>\n    <tr>\n      <th>29</th>\n      <td>1.91</td>\n      <td>83</td>\n    </tr>\n  </tbody>\n</table>\n</div>"
     },
     "execution_count": 5,
     "metadata": {},
     "output_type": "execute_result"
    }
   ],
   "source": [
    "dataset_without_target"
   ],
   "metadata": {
    "collapsed": false
   }
  },
  {
   "cell_type": "code",
   "execution_count": null,
   "outputs": [],
   "source": [],
   "metadata": {
    "collapsed": false
   }
  }
 ],
 "metadata": {
  "kernelspec": {
   "display_name": "Python 3",
   "language": "python",
   "name": "python3"
  },
  "language_info": {
   "codemirror_mode": {
    "name": "ipython",
    "version": 2
   },
   "file_extension": ".py",
   "mimetype": "text/x-python",
   "name": "python",
   "nbconvert_exporter": "python",
   "pygments_lexer": "ipython2",
   "version": "2.7.6"
  }
 },
 "nbformat": 4,
 "nbformat_minor": 0
}
