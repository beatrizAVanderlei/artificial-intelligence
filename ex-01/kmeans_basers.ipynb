{
  "cells": [
    {
      "cell_type": "markdown",
      "source": [
        "# K-means (BaseRS)"
      ],
      "metadata": {
        "id": "wQkit0QdS4ck"
      }
    },
    {
      "cell_type": "markdown",
      "source": [
        "## 1 - Importação das bibliotecas"
      ],
      "metadata": {
        "id": "rsRwygYaTDqb"
      }
    },
    {
      "cell_type": "code",
      "execution_count": 1,
      "metadata": {
        "collapsed": true,
        "id": "Mwe6qiewPwOm"
      },
      "outputs": [],
      "source": [
        "import pandas as pd\n",
        "import numpy as np\n",
        "from sklearn.cluster import KMeans\n",
        "\n",
        "import seaborn as sns\n",
        "from matplotlib import pyplot as plt\n",
        "\n",
        "from pprint import pprint"
      ]
    },
    {
      "cell_type": "markdown",
      "source": [
        "## 2 - Carregamento e pré-processamento da base de dados"
      ],
      "metadata": {
        "id": "Xouom37YTG6i"
      }
    },
    {
      "cell_type": "code",
      "execution_count": 2,
      "outputs": [],
      "source": [
        "DATASET_PATH = \"dataset/BaseRS.csv\"\n",
        "dataframe = pd.read_csv(DATASET_PATH)\n",
        "dataframe_without_target = dataframe.drop([\"target\"], axis=1)"
      ],
      "metadata": {
        "id": "Iv2pqrr_PwOn"
      }
    },
    {
      "cell_type": "code",
      "execution_count": 3,
      "outputs": [
        {
          "output_type": "execute_result",
          "data": {
            "text/plain": [
              "   Altura  Peso target\n",
              "0    1.90   100      B\n",
              "1    1.90    80      V\n",
              "2    1.75    67      F\n",
              "3    1.60    70      F\n",
              "4    1.71    60      F"
            ],
            "text/html": [
              "\n",
              "  <div id=\"df-2bfe69fc-eee0-4b0e-b7eb-acd5de26ac66\">\n",
              "    <div class=\"colab-df-container\">\n",
              "      <div>\n",
              "<style scoped>\n",
              "    .dataframe tbody tr th:only-of-type {\n",
              "        vertical-align: middle;\n",
              "    }\n",
              "\n",
              "    .dataframe tbody tr th {\n",
              "        vertical-align: top;\n",
              "    }\n",
              "\n",
              "    .dataframe thead th {\n",
              "        text-align: right;\n",
              "    }\n",
              "</style>\n",
              "<table border=\"1\" class=\"dataframe\">\n",
              "  <thead>\n",
              "    <tr style=\"text-align: right;\">\n",
              "      <th></th>\n",
              "      <th>Altura</th>\n",
              "      <th>Peso</th>\n",
              "      <th>target</th>\n",
              "    </tr>\n",
              "  </thead>\n",
              "  <tbody>\n",
              "    <tr>\n",
              "      <th>0</th>\n",
              "      <td>1.90</td>\n",
              "      <td>100</td>\n",
              "      <td>B</td>\n",
              "    </tr>\n",
              "    <tr>\n",
              "      <th>1</th>\n",
              "      <td>1.90</td>\n",
              "      <td>80</td>\n",
              "      <td>V</td>\n",
              "    </tr>\n",
              "    <tr>\n",
              "      <th>2</th>\n",
              "      <td>1.75</td>\n",
              "      <td>67</td>\n",
              "      <td>F</td>\n",
              "    </tr>\n",
              "    <tr>\n",
              "      <th>3</th>\n",
              "      <td>1.60</td>\n",
              "      <td>70</td>\n",
              "      <td>F</td>\n",
              "    </tr>\n",
              "    <tr>\n",
              "      <th>4</th>\n",
              "      <td>1.71</td>\n",
              "      <td>60</td>\n",
              "      <td>F</td>\n",
              "    </tr>\n",
              "  </tbody>\n",
              "</table>\n",
              "</div>\n",
              "      <button class=\"colab-df-convert\" onclick=\"convertToInteractive('df-2bfe69fc-eee0-4b0e-b7eb-acd5de26ac66')\"\n",
              "              title=\"Convert this dataframe to an interactive table.\"\n",
              "              style=\"display:none;\">\n",
              "        \n",
              "  <svg xmlns=\"http://www.w3.org/2000/svg\" height=\"24px\"viewBox=\"0 0 24 24\"\n",
              "       width=\"24px\">\n",
              "    <path d=\"M0 0h24v24H0V0z\" fill=\"none\"/>\n",
              "    <path d=\"M18.56 5.44l.94 2.06.94-2.06 2.06-.94-2.06-.94-.94-2.06-.94 2.06-2.06.94zm-11 1L8.5 8.5l.94-2.06 2.06-.94-2.06-.94L8.5 2.5l-.94 2.06-2.06.94zm10 10l.94 2.06.94-2.06 2.06-.94-2.06-.94-.94-2.06-.94 2.06-2.06.94z\"/><path d=\"M17.41 7.96l-1.37-1.37c-.4-.4-.92-.59-1.43-.59-.52 0-1.04.2-1.43.59L10.3 9.45l-7.72 7.72c-.78.78-.78 2.05 0 2.83L4 21.41c.39.39.9.59 1.41.59.51 0 1.02-.2 1.41-.59l7.78-7.78 2.81-2.81c.8-.78.8-2.07 0-2.86zM5.41 20L4 18.59l7.72-7.72 1.47 1.35L5.41 20z\"/>\n",
              "  </svg>\n",
              "      </button>\n",
              "      \n",
              "  <style>\n",
              "    .colab-df-container {\n",
              "      display:flex;\n",
              "      flex-wrap:wrap;\n",
              "      gap: 12px;\n",
              "    }\n",
              "\n",
              "    .colab-df-convert {\n",
              "      background-color: #E8F0FE;\n",
              "      border: none;\n",
              "      border-radius: 50%;\n",
              "      cursor: pointer;\n",
              "      display: none;\n",
              "      fill: #1967D2;\n",
              "      height: 32px;\n",
              "      padding: 0 0 0 0;\n",
              "      width: 32px;\n",
              "    }\n",
              "\n",
              "    .colab-df-convert:hover {\n",
              "      background-color: #E2EBFA;\n",
              "      box-shadow: 0px 1px 2px rgba(60, 64, 67, 0.3), 0px 1px 3px 1px rgba(60, 64, 67, 0.15);\n",
              "      fill: #174EA6;\n",
              "    }\n",
              "\n",
              "    [theme=dark] .colab-df-convert {\n",
              "      background-color: #3B4455;\n",
              "      fill: #D2E3FC;\n",
              "    }\n",
              "\n",
              "    [theme=dark] .colab-df-convert:hover {\n",
              "      background-color: #434B5C;\n",
              "      box-shadow: 0px 1px 3px 1px rgba(0, 0, 0, 0.15);\n",
              "      filter: drop-shadow(0px 1px 2px rgba(0, 0, 0, 0.3));\n",
              "      fill: #FFFFFF;\n",
              "    }\n",
              "  </style>\n",
              "\n",
              "      <script>\n",
              "        const buttonEl =\n",
              "          document.querySelector('#df-2bfe69fc-eee0-4b0e-b7eb-acd5de26ac66 button.colab-df-convert');\n",
              "        buttonEl.style.display =\n",
              "          google.colab.kernel.accessAllowed ? 'block' : 'none';\n",
              "\n",
              "        async function convertToInteractive(key) {\n",
              "          const element = document.querySelector('#df-2bfe69fc-eee0-4b0e-b7eb-acd5de26ac66');\n",
              "          const dataTable =\n",
              "            await google.colab.kernel.invokeFunction('convertToInteractive',\n",
              "                                                     [key], {});\n",
              "          if (!dataTable) return;\n",
              "\n",
              "          const docLinkHtml = 'Like what you see? Visit the ' +\n",
              "            '<a target=\"_blank\" href=https://colab.research.google.com/notebooks/data_table.ipynb>data table notebook</a>'\n",
              "            + ' to learn more about interactive tables.';\n",
              "          element.innerHTML = '';\n",
              "          dataTable['output_type'] = 'display_data';\n",
              "          await google.colab.output.renderOutput(dataTable, element);\n",
              "          const docLink = document.createElement('div');\n",
              "          docLink.innerHTML = docLinkHtml;\n",
              "          element.appendChild(docLink);\n",
              "        }\n",
              "      </script>\n",
              "    </div>\n",
              "  </div>\n",
              "  "
            ]
          },
          "metadata": {},
          "execution_count": 3
        }
      ],
      "source": [
        "dataframe.head()"
      ],
      "metadata": {
        "colab": {
          "base_uri": "https://localhost:8080/",
          "height": 206
        },
        "id": "MCBqQThJPwOo",
        "outputId": "109b90b6-ff35-4eb0-f083-ee93e1b97209"
      }
    },
    {
      "cell_type": "code",
      "execution_count": 4,
      "outputs": [
        {
          "output_type": "execute_result",
          "data": {
            "text/plain": [
              "   Altura  Peso\n",
              "0    1.90   100\n",
              "1    1.90    80\n",
              "2    1.75    67\n",
              "3    1.60    70\n",
              "4    1.71    60"
            ],
            "text/html": [
              "\n",
              "  <div id=\"df-c9b5a524-6a6e-4cc2-8eef-381e6d967174\">\n",
              "    <div class=\"colab-df-container\">\n",
              "      <div>\n",
              "<style scoped>\n",
              "    .dataframe tbody tr th:only-of-type {\n",
              "        vertical-align: middle;\n",
              "    }\n",
              "\n",
              "    .dataframe tbody tr th {\n",
              "        vertical-align: top;\n",
              "    }\n",
              "\n",
              "    .dataframe thead th {\n",
              "        text-align: right;\n",
              "    }\n",
              "</style>\n",
              "<table border=\"1\" class=\"dataframe\">\n",
              "  <thead>\n",
              "    <tr style=\"text-align: right;\">\n",
              "      <th></th>\n",
              "      <th>Altura</th>\n",
              "      <th>Peso</th>\n",
              "    </tr>\n",
              "  </thead>\n",
              "  <tbody>\n",
              "    <tr>\n",
              "      <th>0</th>\n",
              "      <td>1.90</td>\n",
              "      <td>100</td>\n",
              "    </tr>\n",
              "    <tr>\n",
              "      <th>1</th>\n",
              "      <td>1.90</td>\n",
              "      <td>80</td>\n",
              "    </tr>\n",
              "    <tr>\n",
              "      <th>2</th>\n",
              "      <td>1.75</td>\n",
              "      <td>67</td>\n",
              "    </tr>\n",
              "    <tr>\n",
              "      <th>3</th>\n",
              "      <td>1.60</td>\n",
              "      <td>70</td>\n",
              "    </tr>\n",
              "    <tr>\n",
              "      <th>4</th>\n",
              "      <td>1.71</td>\n",
              "      <td>60</td>\n",
              "    </tr>\n",
              "  </tbody>\n",
              "</table>\n",
              "</div>\n",
              "      <button class=\"colab-df-convert\" onclick=\"convertToInteractive('df-c9b5a524-6a6e-4cc2-8eef-381e6d967174')\"\n",
              "              title=\"Convert this dataframe to an interactive table.\"\n",
              "              style=\"display:none;\">\n",
              "        \n",
              "  <svg xmlns=\"http://www.w3.org/2000/svg\" height=\"24px\"viewBox=\"0 0 24 24\"\n",
              "       width=\"24px\">\n",
              "    <path d=\"M0 0h24v24H0V0z\" fill=\"none\"/>\n",
              "    <path d=\"M18.56 5.44l.94 2.06.94-2.06 2.06-.94-2.06-.94-.94-2.06-.94 2.06-2.06.94zm-11 1L8.5 8.5l.94-2.06 2.06-.94-2.06-.94L8.5 2.5l-.94 2.06-2.06.94zm10 10l.94 2.06.94-2.06 2.06-.94-2.06-.94-.94-2.06-.94 2.06-2.06.94z\"/><path d=\"M17.41 7.96l-1.37-1.37c-.4-.4-.92-.59-1.43-.59-.52 0-1.04.2-1.43.59L10.3 9.45l-7.72 7.72c-.78.78-.78 2.05 0 2.83L4 21.41c.39.39.9.59 1.41.59.51 0 1.02-.2 1.41-.59l7.78-7.78 2.81-2.81c.8-.78.8-2.07 0-2.86zM5.41 20L4 18.59l7.72-7.72 1.47 1.35L5.41 20z\"/>\n",
              "  </svg>\n",
              "      </button>\n",
              "      \n",
              "  <style>\n",
              "    .colab-df-container {\n",
              "      display:flex;\n",
              "      flex-wrap:wrap;\n",
              "      gap: 12px;\n",
              "    }\n",
              "\n",
              "    .colab-df-convert {\n",
              "      background-color: #E8F0FE;\n",
              "      border: none;\n",
              "      border-radius: 50%;\n",
              "      cursor: pointer;\n",
              "      display: none;\n",
              "      fill: #1967D2;\n",
              "      height: 32px;\n",
              "      padding: 0 0 0 0;\n",
              "      width: 32px;\n",
              "    }\n",
              "\n",
              "    .colab-df-convert:hover {\n",
              "      background-color: #E2EBFA;\n",
              "      box-shadow: 0px 1px 2px rgba(60, 64, 67, 0.3), 0px 1px 3px 1px rgba(60, 64, 67, 0.15);\n",
              "      fill: #174EA6;\n",
              "    }\n",
              "\n",
              "    [theme=dark] .colab-df-convert {\n",
              "      background-color: #3B4455;\n",
              "      fill: #D2E3FC;\n",
              "    }\n",
              "\n",
              "    [theme=dark] .colab-df-convert:hover {\n",
              "      background-color: #434B5C;\n",
              "      box-shadow: 0px 1px 3px 1px rgba(0, 0, 0, 0.15);\n",
              "      filter: drop-shadow(0px 1px 2px rgba(0, 0, 0, 0.3));\n",
              "      fill: #FFFFFF;\n",
              "    }\n",
              "  </style>\n",
              "\n",
              "      <script>\n",
              "        const buttonEl =\n",
              "          document.querySelector('#df-c9b5a524-6a6e-4cc2-8eef-381e6d967174 button.colab-df-convert');\n",
              "        buttonEl.style.display =\n",
              "          google.colab.kernel.accessAllowed ? 'block' : 'none';\n",
              "\n",
              "        async function convertToInteractive(key) {\n",
              "          const element = document.querySelector('#df-c9b5a524-6a6e-4cc2-8eef-381e6d967174');\n",
              "          const dataTable =\n",
              "            await google.colab.kernel.invokeFunction('convertToInteractive',\n",
              "                                                     [key], {});\n",
              "          if (!dataTable) return;\n",
              "\n",
              "          const docLinkHtml = 'Like what you see? Visit the ' +\n",
              "            '<a target=\"_blank\" href=https://colab.research.google.com/notebooks/data_table.ipynb>data table notebook</a>'\n",
              "            + ' to learn more about interactive tables.';\n",
              "          element.innerHTML = '';\n",
              "          dataTable['output_type'] = 'display_data';\n",
              "          await google.colab.output.renderOutput(dataTable, element);\n",
              "          const docLink = document.createElement('div');\n",
              "          docLink.innerHTML = docLinkHtml;\n",
              "          element.appendChild(docLink);\n",
              "        }\n",
              "      </script>\n",
              "    </div>\n",
              "  </div>\n",
              "  "
            ]
          },
          "metadata": {},
          "execution_count": 4
        }
      ],
      "source": [
        "dataframe_without_target.head()"
      ],
      "metadata": {
        "colab": {
          "base_uri": "https://localhost:8080/",
          "height": 206
        },
        "id": "3logvJxjPwOo",
        "outputId": "722fc07f-fe8b-4c69-d52a-4daed112c5c1"
      }
    },
    {
      "cell_type": "markdown",
      "source": [
        "## 3 - Visualização dos dados"
      ],
      "metadata": {
        "id": "i4-Nta6jTOd2"
      }
    },
    {
      "cell_type": "markdown",
      "source": [
        "Pelo o gráfico, dá para observar que existem 3 regiões onde os dados estão concetrados, visto que nessa base de dados existem 3 grupos, jogadores de Basquete (B), Vôlei (V) e Futebol (F)."
      ],
      "metadata": {
        "id": "XoYaa3BeT53Q"
      }
    },
    {
      "cell_type": "code",
      "execution_count": 5,
      "outputs": [
        {
          "output_type": "execute_result",
          "data": {
            "text/plain": [
              "<matplotlib.axes._subplots.AxesSubplot at 0x7fba0676d1d0>"
            ]
          },
          "metadata": {},
          "execution_count": 5
        },
        {
          "output_type": "display_data",
          "data": {
            "text/plain": [
              "<Figure size 432x288 with 1 Axes>"
            ],
            "image/png": "[encoded data removed]"
          },
          "metadata": {
            "needs_background": "light"
          }
        }
      ],
      "source": [
        "sns.scatterplot(\n",
        "    x=dataframe_without_target[\"Peso\"], \n",
        "    y=dataframe_without_target[\"Altura\"],\n",
        ")"
      ],
      "metadata": {
        "colab": {
          "base_uri": "https://localhost:8080/",
          "height": 297
        },
        "id": "uMw_bGPYPwOp",
        "outputId": "82414a95-be2d-4623-c283-e9a2d876a61f"
      }
    },
    {
      "cell_type": "markdown",
      "source": [
        "## 4 - Rodando o algoritmo de clusterização K-means"
      ],
      "metadata": {
        "id": "t3prg0WfUbUK"
      }
    },
    {
      "cell_type": "markdown",
      "source": [
        "O algoritmo K-means será rodado para 3 clusters, visto que temos 3 grupos no gŕafico visualizado acima. Além disso, no target da base de dados, temos 3 valores (B, V e F)"
      ],
      "metadata": {
        "id": "bkw3to7IVNgk"
      }
    },
    {
      "cell_type": "code",
      "source": [
        "kmeans = KMeans(n_clusters=3, random_state=1).fit(dataframe_without_target)\n",
        "print(f\"Labels do k-means: {kmeans.labels_}\")\n",
        "print(f\"Centróides do k-means:\\n{kmeans.cluster_centers_}\")"
      ],
      "metadata": {
        "colab": {
          "base_uri": "https://localhost:8080/"
        },
        "id": "o1qyoESCScFB",
        "outputId": "d7a9b73b-28fe-45e4-834c-eb726b5e2e10"
      },
      "execution_count": 6,
      "outputs": [
        {
          "output_type": "stream",
          "name": "stdout",
          "text": [
            "Labels do k-means: [1 0 2 2 2 1 0 0 1 1 2 0 0 0 1 1 1 1 0 0 1 0 0 0 0 2 0 1 1 0]\n",
            "Centróides do k-means:\n",
            "[[  1.90285714  82.14285714]\n",
            " [  2.03818182 110.54545455]\n",
            " [  1.73        68.6       ]]\n"
          ]
        }
      ]
    },
    {
      "cell_type": "markdown",
      "source": [
        "## 5 - Visualizando os resultados"
      ],
      "metadata": {
        "id": "pJuueFhHWJtS"
      }
    },
    {
      "cell_type": "code",
      "source": [
        "sns.scatterplot(\n",
        "    x=dataframe_without_target[\"Peso\"], \n",
        "    y=dataframe_without_target[\"Altura\"],\n",
        "    hue=kmeans.labels_,\n",
        "    style=kmeans.labels_,\n",
        "    palette=\"deep\",\n",
        ")"
      ],
      "metadata": {
        "colab": {
          "base_uri": "https://localhost:8080/",
          "height": 297
        },
        "id": "SEFiQJTeV0AP",
        "outputId": "0fc84c85-0cda-47fe-e969-a5b0ef65c828"
      },
      "execution_count": 7,
      "outputs": [
        {
          "output_type": "execute_result",
          "data": {
            "text/plain": [
              "<matplotlib.axes._subplots.AxesSubplot at 0x7fba0676d090>"
            ]
          },
          "metadata": {},
          "execution_count": 7
        },
        {
          "output_type": "display_data",
          "data": {
            "text/plain": [
              "<Figure size 432x288 with 1 Axes>"
            ],
            "image/png": "[encoded data removed]"
          },
          "metadata": {
            "needs_background": "light"
          }
        }
      ]
    },
    {
      "cell_type": "markdown",
      "source": [
        "## 6 - Checando se o agrupamento realizado está correto"
      ],
      "metadata": {
        "id": "_2-qbsEYYCS9"
      }
    },
    {
      "cell_type": "markdown",
      "source": [
        "O agrupamento do K-means acabou juntando jogadores de vôlei e futebol na label 0, onde é a região de pesos e alturas médias. Também juntou jogadores de vôlei e basquete na label 1, onde são alturas e pesos altos. E juntou apenas jogadores de futebol na label 2, onde tem pesos e alturas baixas. \n",
        "\n",
        "Apesar da base de dados possuir 3 targets, jogadores de vôlei, futebol e basquete, o algoritmo não conseguiu agrupar essas três categorias, esse resultado se dá pela falta de características representativas na base de dados, visto que é bem difícil agrupar em diferentes grupos baseado apeans em altura e peso."
      ],
      "metadata": {
        "id": "ZJ6fUA4YejaF"
      }
    },
    {
      "cell_type": "code",
      "source": [
        "dataframe_labels_0 = dataframe[kmeans.labels_ == 0]\n",
        "dataframe_labels_1 = dataframe[kmeans.labels_ == 1]\n",
        "dataframe_labels_2 = dataframe[kmeans.labels_ == 2]\n",
        "\n",
        "player_types_per_label = {\n",
        "    \"label 0\": np.unique(dataframe_labels_0[\"target\"]).tolist(),\n",
        "    \"label 1\": np.unique(dataframe_labels_1[\"target\"]).tolist(),\n",
        "    \"label 2\": np.unique(dataframe_labels_2[\"target\"]).tolist(),\n",
        "}\n",
        "amount_of_player_types_per_label = {\n",
        "    \"label 0\": {\n",
        "        \"B\": len(dataframe_labels_0[dataframe_labels_0[\"target\"] == \"B\"]),\n",
        "        \"V\": len(dataframe_labels_0[dataframe_labels_0[\"target\"] == \"V\"]),\n",
        "        \"F\": len(dataframe_labels_0[dataframe_labels_0[\"target\"] == \"F\"]),\n",
        "    },\n",
        "    \"label 1\": {\n",
        "        \"B\": len(dataframe_labels_1[dataframe_labels_1[\"target\"] == \"B\"]),\n",
        "        \"V\": len(dataframe_labels_1[dataframe_labels_1[\"target\"] == \"V\"]),\n",
        "        \"F\": len(dataframe_labels_1[dataframe_labels_1[\"target\"] == \"F\"]),\n",
        "    },\n",
        "    \"label 2\": {\n",
        "        \"B\": len(dataframe_labels_2[dataframe_labels_2[\"target\"] == \"B\"]),\n",
        "        \"V\": len(dataframe_labels_2[dataframe_labels_2[\"target\"] == \"V\"]),\n",
        "        \"F\": len(dataframe_labels_2[dataframe_labels_2[\"target\"] == \"F\"]),\n",
        "    },\n",
        "}\n",
        "\n",
        "print(\"Tipo de jogador por label (agrupamento do kmeans):\")\n",
        "pprint(player_types_per_label)\n",
        "print(\"Quantidade de jogador por tipo por label (agrupamento do kmeans):\")\n",
        "pprint(amount_of_player_types_per_label)"
      ],
      "metadata": {
        "colab": {
          "base_uri": "https://localhost:8080/"
        },
        "id": "J9tWKR4pXXmZ",
        "outputId": "a2fe4270-2c1e-4929-be63-f837e21d0648"
      },
      "execution_count": 8,
      "outputs": [
        {
          "output_type": "stream",
          "name": "stdout",
          "text": [
            "Tipo de jogador por label (agrupamento do kmeans):\n",
            "{'label 0': ['F', 'V'], 'label 1': ['B', 'V'], 'label 2': ['F']}\n",
            "Quantidade de jogador por tipo por label (agrupamento do kmeans):\n",
            "{'label 0': {'B': 0, 'F': 6, 'V': 8},\n",
            " 'label 1': {'B': 10, 'F': 0, 'V': 1},\n",
            " 'label 2': {'B': 0, 'F': 5, 'V': 0}}\n"
          ]
        }
      ]
    }
  ],
  "metadata": {
    "kernelspec": {
      "display_name": "Python 3",
      "language": "python",
      "name": "python3"
    },
    "language_info": {
      "codemirror_mode": {
        "name": "ipython",
        "version": 2
      },
      "file_extension": ".py",
      "mimetype": "text/x-python",
      "name": "python",
      "nbconvert_exporter": "python",
      "pygments_lexer": "ipython2",
      "version": "2.7.6"
    },
    "colab": {
      "provenance": []
    }
  },
  "nbformat": 4,
  "nbformat_minor": 0
}