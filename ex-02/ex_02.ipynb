{
  "nbformat": 4,
  "nbformat_minor": 0,
  "metadata": {
    "colab": {
      "provenance": [],
      "authorship_tag": "ABX9TyNt3w9B4r9X9J+ydy9VJ1Xa",
      "include_colab_link": true
    },
    "kernelspec": {
      "name": "python3",
      "display_name": "Python 3"
    },
    "language_info": {
      "name": "python"
    }
  },
  "cells": [
    {
      "cell_type": "markdown",
      "metadata": {
        "id": "view-in-github",
        "colab_type": "text"
      },
      "source": [
        "<a href=\"https://colab.research.google.com/github/vngabriel/artificial-intelligence/blob/main/ex-02/ex_02.ipynb\" target=\"_parent\"><img src=\"https://colab.research.google.com/assets/colab-badge.svg\" alt=\"Open In Colab\"/></a>"
      ]
    },
    {
      "cell_type": "code",
      "source": [
        "import nltk\n",
        "from nltk.tokenize import word_tokenize\n",
        "from nltk.tag import pos_tag\n",
        "from nltk.corpus import stopwords\n",
        "from nltk.stem import PorterStemmer\n",
        "\n",
        "nltk.download(\"punkt\")\n",
        "nltk.download(\"averaged_perceptron_tagger\")"
      ],
      "metadata": {
        "colab": {
          "base_uri": "https://localhost:8080/"
        },
        "id": "dfksjbdBrNmi",
        "outputId": "9ad2295d-90d9-4bbd-8ab3-219257942977"
      },
      "execution_count": 1,
      "outputs": [
        {
          "output_type": "stream",
          "name": "stderr",
          "text": [
            "[nltk_data] Downloading package punkt to /root/nltk_data...\n",
            "[nltk_data]   Unzipping tokenizers/punkt.zip.\n",
            "[nltk_data] Downloading package averaged_perceptron_tagger to\n",
            "[nltk_data]     /root/nltk_data...\n",
            "[nltk_data]   Unzipping taggers/averaged_perceptron_tagger.zip.\n"
          ]
        },
        {
          "output_type": "execute_result",
          "data": {
            "text/plain": [
              "True"
            ]
          },
          "metadata": {},
          "execution_count": 1
        }
      ]
    },
    {
      "cell_type": "code",
      "source": [
        "def classify_elements(text):\n",
        "    tokens = word_tokenize(text)\n",
        "    tagged_tokens = pos_tag(tokens, lang=\"eng\")\n",
        "\n",
        "    verbs = []\n",
        "    nouns = []\n",
        "    conjunctions = []\n",
        "    for token, tag in tagged_tokens:\n",
        "        token = token.lower()\n",
        "\n",
        "        if tag.startswith(\"V\"):\n",
        "            verbs.append(token)\n",
        "        elif tag.startswith(\"N\"):\n",
        "            nouns.append(token)\n",
        "        elif tag == \"CC\":\n",
        "            conjunctions.append(token)\n",
        "        elif tag.startswith(\"RB\") and token == \"not\":\n",
        "            conjunctions.append(token)\n",
        "    \n",
        "    return verbs, nouns, conjunctions"
      ],
      "metadata": {
        "id": "xJpyvw-3iPfW"
      },
      "execution_count": 2,
      "outputs": []
    },
    {
      "cell_type": "code",
      "source": [
        "def display_results(text):\n",
        "    verbs, nouns, conjunctions = classify_elements(text)\n",
        "    print(\"Verbs:\", list(set(verbs)))\n",
        "    print(\"Nouns:\", list(set(nouns)))\n",
        "    print(\"Conjunctions containing:\", list(set(conjunctions)))"
      ],
      "metadata": {
        "id": "MyJzbKCqltnh"
      },
      "execution_count": 3,
      "outputs": []
    },
    {
      "cell_type": "code",
      "source": [
        "text = \"The dog ran in the park and found other dogs. It didn't like the rainy weather, but still had fun.\"\n",
        "display_results(text)"
      ],
      "metadata": {
        "colab": {
          "base_uri": "https://localhost:8080/"
        },
        "id": "yrT-b8edkBIU",
        "outputId": "21788d18-794a-461a-a345-d65b48b537ee"
      },
      "execution_count": 4,
      "outputs": [
        {
          "output_type": "stream",
          "name": "stdout",
          "text": [
            "Verbs: ['had', 'found', 'ran', 'did']\n",
            "Nouns: ['dog', 'dogs', 'fun', 'park', 'weather', 'rainy']\n",
            "Conjunctions containing: ['but', 'and']\n"
          ]
        }
      ]
    },
    {
      "cell_type": "code",
      "source": [
        "text = \"Cats are felines, they eat meat and they are not canines or birds\"\n",
        "display_results(text)"
      ],
      "metadata": {
        "colab": {
          "base_uri": "https://localhost:8080/"
        },
        "id": "QAcGr8o5lbF_",
        "outputId": "d86c41f8-d614-4651-f8d9-8eeb14a6f66c"
      },
      "execution_count": 5,
      "outputs": [
        {
          "output_type": "stream",
          "name": "stdout",
          "text": [
            "Verbs: ['are', 'eat']\n",
            "Nouns: ['meat', 'felines', 'canines', 'cats', 'birds']\n",
            "Conjunctions containing: ['not', 'and', 'or']\n"
          ]
        }
      ]
    },
    {
      "cell_type": "code",
      "source": [],
      "metadata": {
        "id": "KbxtYitntXXG"
      },
      "execution_count": null,
      "outputs": []
    }
  ]
}